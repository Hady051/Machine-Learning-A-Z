{
 "cells": [
  {
   "metadata": {},
   "cell_type": "markdown",
   "source": "# <span style=\"color:orange\">Data Preprocessing Tools</span>",
   "id": "2bb1ab2e0b8ba349"
  },
  {
   "metadata": {},
   "cell_type": "markdown",
   "source": "### <span style=\"color:orange\">Importing the Libraries</span>",
   "id": "8a2ed0eb66757343"
  },
  {
   "metadata": {
    "ExecuteTime": {
     "end_time": "2025-01-25T14:54:42.158154Z",
     "start_time": "2025-01-25T14:54:41.635866Z"
    }
   },
   "cell_type": "code",
   "source": [
    "import numpy as np\n",
    "import pandas as pd"
   ],
   "id": "47ac2e10c150861c",
   "outputs": [],
   "execution_count": 1
  },
  {
   "metadata": {},
   "cell_type": "markdown",
   "source": "### <span style=\"color:orange\">Importing the dataset</span>",
   "id": "fbb7b042a4c4282f"
  },
  {
   "metadata": {
    "ExecuteTime": {
     "end_time": "2025-01-25T14:54:43.954552Z",
     "start_time": "2025-01-25T14:54:43.942101Z"
    }
   },
   "cell_type": "code",
   "source": [
    "dataset = pd.read_csv('datasets/Data.csv')\n",
    "matrix_of_features = dataset.iloc[ : , :-1].values      # // X\n",
    "dependent_variable = dataset.iloc[ : , -1].values  # // y"
   ],
   "id": "cc74eac5bc401e5b",
   "outputs": [],
   "execution_count": 2
  },
  {
   "metadata": {
    "ExecuteTime": {
     "end_time": "2025-01-25T14:54:44.983739Z",
     "start_time": "2025-01-25T14:54:44.970076Z"
    }
   },
   "cell_type": "code",
   "source": "dataset",
   "id": "d7bb0297ff86421b",
   "outputs": [
    {
     "data": {
      "text/plain": [
       "   Country   Age   Salary Purchased\n",
       "0   France  44.0  72000.0        No\n",
       "1    Spain  27.0  48000.0       Yes\n",
       "2  Germany  30.0  54000.0        No\n",
       "3    Spain  38.0  61000.0        No\n",
       "4  Germany  40.0      NaN       Yes\n",
       "5   France  35.0  58000.0       Yes\n",
       "6    Spain   NaN  52000.0        No\n",
       "7   France  48.0  79000.0       Yes\n",
       "8  Germany  50.0  83000.0        No\n",
       "9   France  37.0  67000.0       Yes"
      ],
      "text/html": [
       "<div>\n",
       "<style scoped>\n",
       "    .dataframe tbody tr th:only-of-type {\n",
       "        vertical-align: middle;\n",
       "    }\n",
       "\n",
       "    .dataframe tbody tr th {\n",
       "        vertical-align: top;\n",
       "    }\n",
       "\n",
       "    .dataframe thead th {\n",
       "        text-align: right;\n",
       "    }\n",
       "</style>\n",
       "<table border=\"1\" class=\"dataframe\">\n",
       "  <thead>\n",
       "    <tr style=\"text-align: right;\">\n",
       "      <th></th>\n",
       "      <th>Country</th>\n",
       "      <th>Age</th>\n",
       "      <th>Salary</th>\n",
       "      <th>Purchased</th>\n",
       "    </tr>\n",
       "  </thead>\n",
       "  <tbody>\n",
       "    <tr>\n",
       "      <th>0</th>\n",
       "      <td>France</td>\n",
       "      <td>44.0</td>\n",
       "      <td>72000.0</td>\n",
       "      <td>No</td>\n",
       "    </tr>\n",
       "    <tr>\n",
       "      <th>1</th>\n",
       "      <td>Spain</td>\n",
       "      <td>27.0</td>\n",
       "      <td>48000.0</td>\n",
       "      <td>Yes</td>\n",
       "    </tr>\n",
       "    <tr>\n",
       "      <th>2</th>\n",
       "      <td>Germany</td>\n",
       "      <td>30.0</td>\n",
       "      <td>54000.0</td>\n",
       "      <td>No</td>\n",
       "    </tr>\n",
       "    <tr>\n",
       "      <th>3</th>\n",
       "      <td>Spain</td>\n",
       "      <td>38.0</td>\n",
       "      <td>61000.0</td>\n",
       "      <td>No</td>\n",
       "    </tr>\n",
       "    <tr>\n",
       "      <th>4</th>\n",
       "      <td>Germany</td>\n",
       "      <td>40.0</td>\n",
       "      <td>NaN</td>\n",
       "      <td>Yes</td>\n",
       "    </tr>\n",
       "    <tr>\n",
       "      <th>5</th>\n",
       "      <td>France</td>\n",
       "      <td>35.0</td>\n",
       "      <td>58000.0</td>\n",
       "      <td>Yes</td>\n",
       "    </tr>\n",
       "    <tr>\n",
       "      <th>6</th>\n",
       "      <td>Spain</td>\n",
       "      <td>NaN</td>\n",
       "      <td>52000.0</td>\n",
       "      <td>No</td>\n",
       "    </tr>\n",
       "    <tr>\n",
       "      <th>7</th>\n",
       "      <td>France</td>\n",
       "      <td>48.0</td>\n",
       "      <td>79000.0</td>\n",
       "      <td>Yes</td>\n",
       "    </tr>\n",
       "    <tr>\n",
       "      <th>8</th>\n",
       "      <td>Germany</td>\n",
       "      <td>50.0</td>\n",
       "      <td>83000.0</td>\n",
       "      <td>No</td>\n",
       "    </tr>\n",
       "    <tr>\n",
       "      <th>9</th>\n",
       "      <td>France</td>\n",
       "      <td>37.0</td>\n",
       "      <td>67000.0</td>\n",
       "      <td>Yes</td>\n",
       "    </tr>\n",
       "  </tbody>\n",
       "</table>\n",
       "</div>"
      ]
     },
     "execution_count": 3,
     "metadata": {},
     "output_type": "execute_result"
    }
   ],
   "execution_count": 3
  },
  {
   "metadata": {
    "ExecuteTime": {
     "end_time": "2025-01-25T14:54:46.060763Z",
     "start_time": "2025-01-25T14:54:46.056362Z"
    }
   },
   "cell_type": "code",
   "source": "matrix_of_features",
   "id": "c25091f897fbd8d4",
   "outputs": [
    {
     "data": {
      "text/plain": [
       "array([['France', 44.0, 72000.0],\n",
       "       ['Spain', 27.0, 48000.0],\n",
       "       ['Germany', 30.0, 54000.0],\n",
       "       ['Spain', 38.0, 61000.0],\n",
       "       ['Germany', 40.0, nan],\n",
       "       ['France', 35.0, 58000.0],\n",
       "       ['Spain', nan, 52000.0],\n",
       "       ['France', 48.0, 79000.0],\n",
       "       ['Germany', 50.0, 83000.0],\n",
       "       ['France', 37.0, 67000.0]], dtype=object)"
      ]
     },
     "execution_count": 4,
     "metadata": {},
     "output_type": "execute_result"
    }
   ],
   "execution_count": 4
  },
  {
   "metadata": {
    "ExecuteTime": {
     "end_time": "2025-01-25T14:54:47.048886Z",
     "start_time": "2025-01-25T14:54:47.045149Z"
    }
   },
   "cell_type": "code",
   "source": "print(matrix_of_features)",
   "id": "d4c2eea89eb72f71",
   "outputs": [
    {
     "name": "stdout",
     "output_type": "stream",
     "text": [
      "[['France' 44.0 72000.0]\n",
      " ['Spain' 27.0 48000.0]\n",
      " ['Germany' 30.0 54000.0]\n",
      " ['Spain' 38.0 61000.0]\n",
      " ['Germany' 40.0 nan]\n",
      " ['France' 35.0 58000.0]\n",
      " ['Spain' nan 52000.0]\n",
      " ['France' 48.0 79000.0]\n",
      " ['Germany' 50.0 83000.0]\n",
      " ['France' 37.0 67000.0]]\n"
     ]
    }
   ],
   "execution_count": 5
  },
  {
   "metadata": {
    "ExecuteTime": {
     "end_time": "2025-01-25T14:54:48.406725Z",
     "start_time": "2025-01-25T14:54:48.401086Z"
    }
   },
   "cell_type": "code",
   "source": "dependent_variable",
   "id": "8083afb2225869ab",
   "outputs": [
    {
     "data": {
      "text/plain": [
       "array(['No', 'Yes', 'No', 'No', 'Yes', 'Yes', 'No', 'Yes', 'No', 'Yes'],\n",
       "      dtype=object)"
      ]
     },
     "execution_count": 6,
     "metadata": {},
     "output_type": "execute_result"
    }
   ],
   "execution_count": 6
  },
  {
   "metadata": {},
   "cell_type": "markdown",
   "source": "### <span style=\"color:orange\">Taking care of missing data</span>",
   "id": "ac5b19b4e4343cfc"
  },
  {
   "metadata": {
    "ExecuteTime": {
     "end_time": "2025-01-25T14:54:53.614192Z",
     "start_time": "2025-01-25T14:54:53.608843Z"
    }
   },
   "cell_type": "code",
   "source": "print(dataset.isnull().sum() )",
   "id": "d3a54396c799c6e5",
   "outputs": [
    {
     "name": "stdout",
     "output_type": "stream",
     "text": [
      "Country      0\n",
      "Age          1\n",
      "Salary       1\n",
      "Purchased    0\n",
      "dtype: int64\n"
     ]
    }
   ],
   "execution_count": 7
  },
  {
   "metadata": {
    "ExecuteTime": {
     "end_time": "2025-01-25T14:54:59.026702Z",
     "start_time": "2025-01-25T14:54:58.028436Z"
    }
   },
   "cell_type": "code",
   "source": [
    "from sklearn.impute import SimpleImputer\n",
    "\n",
    "imputer = SimpleImputer(missing_values=np.nan, strategy='mean') # // average value\n",
    "imputer.fit(matrix_of_features[ : , 1:3])  # // the cols with integer values\n",
    "matrix_of_features[ : , 1:3] = imputer.transform(matrix_of_features[ : , 1:3])"
   ],
   "id": "a7739efd0cdf60e1",
   "outputs": [],
   "execution_count": 8
  },
  {
   "metadata": {
    "ExecuteTime": {
     "end_time": "2025-01-25T14:54:59.758610Z",
     "start_time": "2025-01-25T14:54:59.753847Z"
    }
   },
   "cell_type": "code",
   "source": "print(\"the new matrix of features: \\n\", matrix_of_features)",
   "id": "203aaf33d51f5c75",
   "outputs": [
    {
     "name": "stdout",
     "output_type": "stream",
     "text": [
      "the new matrix of features: \n",
      " [['France' 44.0 72000.0]\n",
      " ['Spain' 27.0 48000.0]\n",
      " ['Germany' 30.0 54000.0]\n",
      " ['Spain' 38.0 61000.0]\n",
      " ['Germany' 40.0 63777.77777777778]\n",
      " ['France' 35.0 58000.0]\n",
      " ['Spain' 38.77777777777778 52000.0]\n",
      " ['France' 48.0 79000.0]\n",
      " ['Germany' 50.0 83000.0]\n",
      " ['France' 37.0 67000.0]]\n"
     ]
    }
   ],
   "execution_count": 9
  },
  {
   "metadata": {},
   "cell_type": "markdown",
   "source": "### <span style=\"color:orange\">Encoding Categorical Data</span>",
   "id": "11721e1181b922b2"
  },
  {
   "metadata": {},
   "cell_type": "markdown",
   "source": "#### <span style=\"color:orange\">Encoding the Independent variables</span>",
   "id": "cb8b747a7661a993"
  },
  {
   "metadata": {
    "ExecuteTime": {
     "end_time": "2025-01-25T14:55:02.433754Z",
     "start_time": "2025-01-25T14:55:02.426788Z"
    }
   },
   "cell_type": "code",
   "source": "print(dataset.nunique() )",
   "id": "1d03519f5ac7f7a2",
   "outputs": [
    {
     "name": "stdout",
     "output_type": "stream",
     "text": [
      "Country      3\n",
      "Age          9\n",
      "Salary       9\n",
      "Purchased    2\n",
      "dtype: int64\n"
     ]
    }
   ],
   "execution_count": 10
  },
  {
   "metadata": {},
   "cell_type": "raw",
   "source": [
    "#### Des:\n",
    "\n",
    "### Line: dataset.nunique()\n",
    "# // to check for how many unique values, if the number is sufficiently low and depending on\n",
    "# /  the column's type, it can be considered a categorical feature\n"
   ],
   "id": "4cfdbf98f7a9df80"
  },
  {
   "metadata": {
    "ExecuteTime": {
     "end_time": "2025-01-25T14:55:05.406165Z",
     "start_time": "2025-01-25T14:55:05.390742Z"
    }
   },
   "cell_type": "code",
   "source": [
    "from sklearn.compose import ColumnTransformer\n",
    "from sklearn.preprocessing import OneHotEncoder\n",
    "\n",
    "\n",
    "column_transformer = ColumnTransformer(transformers=[(\"encoding\", OneHotEncoder(), [0] ) ]\n",
    "                                       , remainder='passthrough')\n",
    "matrix_of_features = np.array(column_transformer.fit_transform(matrix_of_features) )"
   ],
   "id": "3d4dbf5942091783",
   "outputs": [],
   "execution_count": 11
  },
  {
   "metadata": {},
   "cell_type": "raw",
   "source": [
    "#### Des:\n",
    "\n",
    "### Line: ColumnTransformer\n",
    "# // [0] is the col you will apply the transformation on, to change the col from\n",
    "# // having words to numeric OHE values.\n",
    "\n",
    "## remainder='passthrough'\n",
    "# // By default, only the specified columns in 'transformers' are transformed and combined in the output,\n",
    "# /  and the non-specified columns are dropped. (default of '''drop''').\n",
    "# // By specifying ''remainder='passthrough'', all remaining columns that were not specified in\n",
    "# /  'transformers', but present in the data passed to `fit` will be automatically passed through."
   ],
   "id": "86a79e61c5328660"
  },
  {
   "metadata": {
    "ExecuteTime": {
     "end_time": "2025-01-25T14:55:07.250765Z",
     "start_time": "2025-01-25T14:55:07.245182Z"
    }
   },
   "cell_type": "code",
   "source": "print(\"After O_H_Encoding the col.: \\n\", matrix_of_features)",
   "id": "6dd35dd6caff0aba",
   "outputs": [
    {
     "name": "stdout",
     "output_type": "stream",
     "text": [
      "After O_H_Encoding the col.: \n",
      " [[1.0 0.0 0.0 44.0 72000.0]\n",
      " [0.0 0.0 1.0 27.0 48000.0]\n",
      " [0.0 1.0 0.0 30.0 54000.0]\n",
      " [0.0 0.0 1.0 38.0 61000.0]\n",
      " [0.0 1.0 0.0 40.0 63777.77777777778]\n",
      " [1.0 0.0 0.0 35.0 58000.0]\n",
      " [0.0 0.0 1.0 38.77777777777778 52000.0]\n",
      " [1.0 0.0 0.0 48.0 79000.0]\n",
      " [0.0 1.0 0.0 50.0 83000.0]\n",
      " [1.0 0.0 0.0 37.0 67000.0]]\n"
     ]
    }
   ],
   "execution_count": 12
  },
  {
   "metadata": {},
   "cell_type": "markdown",
   "source": "#### <span style=\"color:orange\">Encoding the Dependent variable</span>",
   "id": "bae3116930d82fe0"
  },
  {
   "metadata": {
    "ExecuteTime": {
     "end_time": "2025-01-25T14:55:13.879347Z",
     "start_time": "2025-01-25T14:55:13.875521Z"
    }
   },
   "cell_type": "code",
   "source": [
    "from sklearn.preprocessing import LabelEncoder\n",
    "\n",
    "label_encoder = LabelEncoder()\n",
    "dependent_variable = label_encoder.fit_transform(dependent_variable)"
   ],
   "id": "2da4193da2c0726a",
   "outputs": [],
   "execution_count": 13
  },
  {
   "metadata": {
    "ExecuteTime": {
     "end_time": "2025-01-25T14:55:15.954455Z",
     "start_time": "2025-01-25T14:55:15.946791Z"
    }
   },
   "cell_type": "code",
   "source": "print(dependent_variable)",
   "id": "ea62ec40b50cb3f2",
   "outputs": [
    {
     "name": "stdout",
     "output_type": "stream",
     "text": [
      "[0 1 0 0 1 1 0 1 0 1]\n"
     ]
    }
   ],
   "execution_count": 14
  },
  {
   "metadata": {},
   "cell_type": "markdown",
   "source": "### <span style=\"color:orange\">Splitting the data</span>",
   "id": "a5bfc6cc0918660a"
  },
  {
   "metadata": {
    "ExecuteTime": {
     "end_time": "2025-01-25T14:55:17.659392Z",
     "start_time": "2025-01-25T14:55:17.652232Z"
    }
   },
   "cell_type": "code",
   "source": [
    "from sklearn.model_selection import train_test_split\n",
    "\n",
    "# // X_train, X_test, y_train, y_test, (tuple unpacking)\n",
    "(matrix_of_features_train, matrix_of_features_test,\n",
    " dependent_variable_train, dependent_variable_test) = train_test_split(matrix_of_features, dependent_variable, test_size=0.2, random_state=1)"
   ],
   "id": "e7bd30f8dc47a4e5",
   "outputs": [],
   "execution_count": 15
  },
  {
   "metadata": {
    "ExecuteTime": {
     "end_time": "2025-01-25T14:55:18.819828Z",
     "start_time": "2025-01-25T14:55:18.811618Z"
    }
   },
   "cell_type": "code",
   "source": [
    "print(\"matrix_of_features_train = \\n\", matrix_of_features_train)\n",
    "print(\"matrix_of_features_test = \\n\", matrix_of_features_test)\n",
    "print(\"dependent_variable_train = \\n\", dependent_variable_train)\n",
    "print(\"dependent_variable_test = \\n\", dependent_variable_test)"
   ],
   "id": "db5de09d68d124d3",
   "outputs": [
    {
     "name": "stdout",
     "output_type": "stream",
     "text": [
      "matrix_of_features_train = \n",
      " [[0.0 0.0 1.0 38.77777777777778 52000.0]\n",
      " [0.0 1.0 0.0 40.0 63777.77777777778]\n",
      " [1.0 0.0 0.0 44.0 72000.0]\n",
      " [0.0 0.0 1.0 38.0 61000.0]\n",
      " [0.0 0.0 1.0 27.0 48000.0]\n",
      " [1.0 0.0 0.0 48.0 79000.0]\n",
      " [0.0 1.0 0.0 50.0 83000.0]\n",
      " [1.0 0.0 0.0 35.0 58000.0]]\n",
      "matrix_of_features_test = \n",
      " [[0.0 1.0 0.0 30.0 54000.0]\n",
      " [1.0 0.0 0.0 37.0 67000.0]]\n",
      "dependent_variable_train = \n",
      " [0 1 0 0 1 1 0 1]\n",
      "dependent_variable_test = \n",
      " [0 1]\n"
     ]
    }
   ],
   "execution_count": 16
  },
  {
   "metadata": {},
   "cell_type": "markdown",
   "source": "### <span style=\"color:orange\">Feature Scaling</span>",
   "id": "93a3978090bbe37"
  },
  {
   "metadata": {},
   "cell_type": "markdown",
   "source": "#### <span style=\"color:orange\">Standardization</span>",
   "id": "1f41509a49590d52"
  },
  {
   "metadata": {
    "ExecuteTime": {
     "end_time": "2025-01-25T14:55:31.768280Z",
     "start_time": "2025-01-25T14:55:31.757983Z"
    }
   },
   "cell_type": "code",
   "source": [
    "from sklearn.preprocessing import StandardScaler\n",
    "\n",
    "standard_scaler = StandardScaler()\n",
    "\n",
    "## X_train\n",
    "matrix_of_features_train[ : , 3: ] = standard_scaler.fit_transform(matrix_of_features_train[ : , 3: ] )\n",
    "print(\"Scaled matrix of features = \\n\", matrix_of_features_train)\n",
    "\n",
    "## X_test, * transform only\n",
    "matrix_of_features_test[ : , 3: ] = standard_scaler.transform(matrix_of_features_test[ : , 3: ] )\n",
    "print(\"Scaled matrix of features test = \\n\", matrix_of_features_test)"
   ],
   "id": "17157c1740410f58",
   "outputs": [
    {
     "name": "stdout",
     "output_type": "stream",
     "text": [
      "Scaled matrix of features = \n",
      " [[0.0 0.0 1.0 -0.19159184384578545 -1.0781259408412425]\n",
      " [0.0 1.0 0.0 -0.014117293757057777 -0.07013167641635372]\n",
      " [1.0 0.0 0.0 0.566708506533324 0.633562432710455]\n",
      " [0.0 0.0 1.0 -0.30453019390224867 -0.30786617274297867]\n",
      " [0.0 0.0 1.0 -1.9018011447007988 -1.420463615551582]\n",
      " [1.0 0.0 0.0 1.1475343068237058 1.232653363453549]\n",
      " [0.0 1.0 0.0 1.4379472069688968 1.5749910381638885]\n",
      " [1.0 0.0 0.0 -0.7401495441200351 -0.5646194287757332]]\n",
      "Scaled matrix of features test = \n",
      " [[0.0 1.0 0.0 -1.4661817944830124 -0.9069571034860727]\n",
      " [1.0 0.0 0.0 -0.44973664397484414 0.2056403393225306]]\n"
     ]
    }
   ],
   "execution_count": 17
  },
  {
   "metadata": {},
   "cell_type": "markdown",
   "source": "#### <span style=\"color:orange\">Normalization</span>",
   "id": "34c56bb46078f179"
  },
  {
   "metadata": {
    "ExecuteTime": {
     "end_time": "2025-01-25T14:56:20.319828Z",
     "start_time": "2025-01-25T14:56:20.314190Z"
    }
   },
   "cell_type": "code",
   "source": [
    "from sklearn.preprocessing import MinMaxScaler\n",
    "\n",
    "normalization_scaler = MinMaxScaler()\n",
    "matrix_of_features_train[ : , 3: ] = normalization_scaler.fit_transform(matrix_of_features_train[ : , 3: ] )\n",
    "matrix_of_features_test[ : , 3: ] = normalization_scaler.transform(matrix_of_features_test[ : , 3: ] )\n",
    "\n",
    "print(\"Scaled matrix of features = \\n\", matrix_of_features_train)\n",
    "print(\"Scaled matrix of features test = \\n\", matrix_of_features_test)"
   ],
   "id": "4e4a4fc05e4730ae",
   "outputs": [
    {
     "name": "stdout",
     "output_type": "stream",
     "text": [
      "Scaled matrix of features = \n",
      " [[0.0 0.0 1.0 0.5120772946859904 0.11428571428571427]\n",
      " [0.0 1.0 0.0 0.5652173913043478 0.4507936507936508]\n",
      " [1.0 0.0 0.0 0.7391304347826086 0.6857142857142856]\n",
      " [0.0 0.0 1.0 0.4782608695652174 0.37142857142857133]\n",
      " [0.0 0.0 1.0 0.0 0.0]\n",
      " [1.0 0.0 0.0 0.9130434782608696 0.8857142857142856]\n",
      " [0.0 1.0 0.0 1.0 0.9999999999999998]\n",
      " [1.0 0.0 0.0 0.34782608695652173 0.28571428571428564]]\n",
      "Scaled matrix of features test = \n",
      " [[0.0 1.0 0.0 0.13043478260869562 0.17142857142857137]\n",
      " [1.0 0.0 0.0 0.4347826086956522 0.5428571428571427]]\n"
     ]
    }
   ],
   "execution_count": 18
  },
  {
   "metadata": {},
   "cell_type": "markdown",
   "source": "**You should use only one, I used both for illustration only**",
   "id": "d3cee9a07bc4235d"
  },
  {
   "metadata": {},
   "cell_type": "markdown",
   "source": "___",
   "id": "bcd20ad31ec8929e"
  }
 ],
 "metadata": {
  "kernelspec": {
   "display_name": "Python 3",
   "language": "python",
   "name": "python3"
  },
  "language_info": {
   "codemirror_mode": {
    "name": "ipython",
    "version": 2
   },
   "file_extension": ".py",
   "mimetype": "text/x-python",
   "name": "python",
   "nbconvert_exporter": "python",
   "pygments_lexer": "ipython2",
   "version": "2.7.6"
  }
 },
 "nbformat": 4,
 "nbformat_minor": 5
}
