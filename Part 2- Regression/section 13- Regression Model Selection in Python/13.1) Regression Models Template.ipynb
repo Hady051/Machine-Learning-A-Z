{
 "cells": [
  {
   "metadata": {},
   "cell_type": "markdown",
   "source": "****Not Much Preprocessing Tools included here**",
   "id": "8cbad24112ba14fb"
  },
  {
   "metadata": {},
   "cell_type": "markdown",
   "source": "## <span style=\"color:orange\">Multiple Linear Regression</span>",
   "id": "be1e7bab95f93767"
  },
  {
   "metadata": {},
   "cell_type": "markdown",
   "source": "#### <span style=\"color:orange\">Importing the Libraries</span>",
   "id": "454afd891f1581a9"
  },
  {
   "metadata": {},
   "cell_type": "code",
   "outputs": [],
   "execution_count": null,
   "source": [
    "import numpy as np\n",
    "import pandas as pd\n",
    "import matplotlib.pyplot as plt"
   ],
   "id": "4e02d9a5142d9226"
  },
  {
   "metadata": {},
   "cell_type": "markdown",
   "source": "#### <span style=\"color:orange\">Importing the Dataset</span>",
   "id": "1063c2324396b1df"
  },
  {
   "metadata": {},
   "cell_type": "code",
   "outputs": [],
   "execution_count": null,
   "source": "dataset_MLR = pd.read_csv('ENTER\\\\THE\\\\NAME/PAT\\\\OF\\\\YOUR\\\\DATASET\\\\HERE.csv')",
   "id": "9a27b1a88190e910"
  },
  {
   "metadata": {},
   "cell_type": "code",
   "outputs": [],
   "execution_count": null,
   "source": [
    "input_features_MLR = dataset_MLR.iloc[ : , :-1].values              ## X\n",
    "dv_MLR = dataset_MLR.iloc[ : , -1].values                           ## y (dependent variable)"
   ],
   "id": "3374a087dccb0d4b"
  },
  {
   "metadata": {},
   "cell_type": "markdown",
   "source": "#### <span style=\"color:orange\">Splitting the data</span>",
   "id": "3b5335314cb4d60e"
  },
  {
   "metadata": {},
   "cell_type": "code",
   "outputs": [],
   "execution_count": null,
   "source": [
    "from sklearn.model_selection import train_test_split\n",
    "\n",
    "# // X_train, X_test, y_train, y_test, (tuple unpacking)\n",
    "(input_features_train_MLR, input_features_test_MLR,\n",
    " dv_train_MLR, dv_test_MLR) = train_test_split(input_features_MLR, dv_MLR, test_size=0.2, random_state=0)"
   ],
   "id": "63dbb914c2f3cae1"
  },
  {
   "metadata": {},
   "cell_type": "markdown",
   "source": "#### <span style=\"color:orange\">Training the Multiple Linear Regression Model on the Training set</span>",
   "id": "74f8122a78a820dc"
  },
  {
   "metadata": {},
   "cell_type": "code",
   "outputs": [],
   "execution_count": null,
   "source": "from sklearn.linear_model import LinearRegression",
   "id": "ae2928bb93f4da8e"
  },
  {
   "metadata": {},
   "cell_type": "code",
   "outputs": [],
   "execution_count": null,
   "source": [
    "## building the model\n",
    "MLR = LinearRegression()"
   ],
   "id": "43bb291196b4a164"
  },
  {
   "metadata": {},
   "cell_type": "code",
   "outputs": [],
   "execution_count": null,
   "source": [
    "## training the model\n",
    "MLR.fit(input_features_train_MLR, dv_train_MLR)"
   ],
   "id": "19c639323ce62923"
  },
  {
   "metadata": {},
   "cell_type": "markdown",
   "source": "#### <span style=\"color:orange\">Predicting the test set results</span>",
   "id": "2cc863f3c71b99bc"
  },
  {
   "metadata": {},
   "cell_type": "code",
   "outputs": [],
   "execution_count": null,
   "source": [
    "## y_pred\n",
    "test_set_predicted_dv_MLR = MLR.predict(input_features_test_MLR)"
   ],
   "id": "d3b53e6008a0c5b"
  },
  {
   "metadata": {},
   "cell_type": "code",
   "outputs": [],
   "execution_count": null,
   "source": [
    "np.set_printoptions(precision=2)  # // to make values only two decimal points\n",
    "\n",
    "print(np.concatenate((test_set_predicted_dv_MLR.reshape(len(test_set_predicted_dv_MLR), 1),\n",
    "                    dv_test_MLR.reshape(len(dv_test_MLR), 1) ),\n",
    "                     axis=1) )"
   ],
   "id": "52339722962f1ce6"
  },
  {
   "metadata": {},
   "cell_type": "markdown",
   "source": "#### <span style=\"color:orange\">Making a single prediction</span>",
   "id": "331e8de3048950fa"
  },
  {
   "metadata": {},
   "cell_type": "markdown",
   "source": "**Depends on The Dataset Features**",
   "id": "11e7ed9d2ca14322"
  },
  {
   "metadata": {},
   "cell_type": "markdown",
   "source": "**Check the Main MLR Code for Clarification**",
   "id": "c7b8530c02039a3e"
  },
  {
   "metadata": {},
   "cell_type": "markdown",
   "source": "#### <span style=\"color:orange\">Getting the Final Linear Regression Equation with the Values of the Coefficients</span>",
   "id": "ca2e95fb44956737"
  },
  {
   "metadata": {},
   "cell_type": "code",
   "outputs": [],
   "execution_count": null,
   "source": [
    "## b0: y-intercept\n",
    "print(\"The final b0: \", MLR.intercept_)  # // -> The final b0: 42467.52924853204"
   ],
   "id": "d06145d9f8bbc61"
  },
  {
   "metadata": {},
   "cell_type": "code",
   "outputs": [],
   "execution_count": null,
   "source": [
    "## bn: slopes/coefficients (b1, b2, etc.)\n",
    "print(\"The final bn: \", MLR.coef_)"
   ],
   "id": "57f83127244a30dd"
  },
  {
   "metadata": {},
   "cell_type": "markdown",
   "source": "#### <span style=\"color:orange\">Evaluating the MLR Model Performance</span>",
   "id": "4a520a1c7fb664be"
  },
  {
   "metadata": {},
   "cell_type": "markdown",
   "source": "##### <span style=\"color:orange\">R-squared</span>",
   "id": "eb7e563fb268a7a3"
  },
  {
   "metadata": {},
   "cell_type": "code",
   "outputs": [],
   "execution_count": null,
   "source": [
    "from sklearn.metrics import r2_score\n",
    "\n",
    "print(r2_score(dv_test_MLR, test_set_predicted_dv_MLR) * 100, '%')  # y_test, y_pred"
   ],
   "id": "81444dca53d2ba92"
  },
  {
   "metadata": {},
   "cell_type": "markdown",
   "source": "___",
   "id": "de39ba735dd3e7c5"
  },
  {
   "metadata": {},
   "cell_type": "markdown",
   "source": "## <span style=\"color:orange\">Polynomial Regression</span>",
   "id": "7d9dbc1357d239c0"
  },
  {
   "metadata": {},
   "cell_type": "markdown",
   "source": "#### <span style=\"color:orange\">Importing the libraries</span>",
   "id": "1fe4bdd6b745a900"
  },
  {
   "metadata": {},
   "cell_type": "code",
   "outputs": [],
   "execution_count": null,
   "source": [
    "import numpy as np\n",
    "import pandas as pd\n",
    "import matplotlib.pyplot as plt"
   ],
   "id": "55495c7a48fd9a7f"
  },
  {
   "metadata": {},
   "cell_type": "markdown",
   "source": "#### <span style=\"color:orange\">Importing the Dataset</span>",
   "id": "53332cc4ddab340b"
  },
  {
   "metadata": {},
   "cell_type": "code",
   "outputs": [],
   "execution_count": null,
   "source": "dataset_PLR = pd.read_csv('ENTER\\\\THE\\\\NAME/PAT\\\\OF\\\\YOUR\\\\DATASET\\\\HERE.csv')",
   "id": "8c6c7d8c930f43ee"
  },
  {
   "metadata": {},
   "cell_type": "code",
   "outputs": [],
   "execution_count": null,
   "source": [
    "input_features_PLR = dataset_PLR.iloc[ : , :-1].values              ## X\n",
    "dv_PLR = dataset_PLR.iloc[ : , -1].values                           ## y (dependent variable)"
   ],
   "id": "652c569bb4d7ae94"
  },
  {
   "metadata": {},
   "cell_type": "markdown",
   "source": "#### <span style=\"color:orange\">Splitting the Data</span>",
   "id": "56fb196db227f2e0"
  },
  {
   "metadata": {},
   "cell_type": "code",
   "outputs": [],
   "execution_count": null,
   "source": [
    "from sklearn.model_selection import train_test_split\n",
    "\n",
    "# // X_train, X_test, y_train, y_test, (tuple unpacking)\n",
    "(input_features_train_PLR, input_features_test_PLR,\n",
    " dv_train_PLR, dv_test_PLR) = train_test_split(input_features_PLR, dv_PLR, test_size=0.2, random_state=0)"
   ],
   "id": "fa73fe985eb2948c"
  },
  {
   "metadata": {},
   "cell_type": "markdown",
   "source": "#### <span style=\"color:orange\">Training The Polynomial Regression Model on the Training Set</span>",
   "id": "9f5cf1956e3464b3"
  },
  {
   "metadata": {},
   "cell_type": "code",
   "outputs": [],
   "execution_count": null,
   "source": [
    "from sklearn.preprocessing import PolynomialFeatures\n",
    "from sklearn.linear_model import LinearRegression"
   ],
   "id": "38320fd1f98975b0"
  },
  {
   "metadata": {},
   "cell_type": "code",
   "outputs": [],
   "execution_count": null,
   "source": [
    "## Building the model\n",
    "polynomial_R_features = PolynomialFeatures(degree=4) # // choosing the degree\n",
    "## Transforming the data by the Model into a Polynomial features\n",
    "poly_input_features = polynomial_R_features.fit_transform(input_features_train_PLR)\n",
    "\n",
    "## Building and training Linear Regression model on the new input features resulted from PolyFeatures\n",
    "poly_linear_R = LinearRegression()\n",
    "poly_linear_R.fit(poly_input_features, dv_train_PLR)"
   ],
   "id": "42eb179a65c3333f"
  },
  {
   "metadata": {},
   "cell_type": "markdown",
   "source": "#### <span style=\"color:orange\">Predicting the test set results</span>",
   "id": "8833abd121dc38d5"
  },
  {
   "metadata": {},
   "cell_type": "code",
   "outputs": [],
   "execution_count": null,
   "source": [
    "## y_pred\n",
    "test_set_predicted_dv_PLR = poly_linear_R.predict(input_features_test_PLR)"
   ],
   "id": "a7a832c8cf1e179d"
  },
  {
   "metadata": {},
   "cell_type": "code",
   "outputs": [],
   "execution_count": null,
   "source": [
    "np.set_printoptions(precision=2)  # // to make values only two decimal points\n",
    "\n",
    "print(np.concatenate((test_set_predicted_dv_PLR.reshape(len(test_set_predicted_dv_PLR), 1),\n",
    "                    dv_test_PLR.reshape(len(dv_test_PLR), 1) ),\n",
    "                     axis=1) )"
   ],
   "id": "afa62b23ac3f0fdd"
  },
  {
   "metadata": {},
   "cell_type": "markdown",
   "source": "#### <span style=\"color:orange\">Evaluating PLR Performance</span>",
   "id": "b7ee8969b27ba559"
  },
  {
   "metadata": {},
   "cell_type": "markdown",
   "source": "##### <span style=\"color:orange\">R-squared</span>",
   "id": "66e01809b03ffb61"
  },
  {
   "metadata": {},
   "cell_type": "code",
   "outputs": [],
   "execution_count": null,
   "source": [
    "from sklearn.metrics import r2_score\n",
    "\n",
    "print(r2_score(dv_test_PLR, test_set_predicted_dv_PLR) * 100, '%')  # y_test, y_pred"
   ],
   "id": "f7f4c65b20f40525"
  },
  {
   "metadata": {},
   "cell_type": "markdown",
   "source": "___",
   "id": "802dbdc3bd7a03"
  },
  {
   "metadata": {},
   "cell_type": "markdown",
   "source": "## <span style=\"color:orange\">Support Vector Regression</span>",
   "id": "58186ce9fa5f9b46"
  },
  {
   "metadata": {},
   "cell_type": "markdown",
   "source": "#### <span style=\"color:orange\">Importing the Libraries</span>",
   "id": "47238be9b8cbe7eb"
  },
  {
   "metadata": {},
   "cell_type": "code",
   "outputs": [],
   "execution_count": null,
   "source": [
    "import numpy as np\n",
    "import pandas as pd\n",
    "import matplotlib.pyplot as plt"
   ],
   "id": "200c6e1d3630c436"
  },
  {
   "metadata": {},
   "cell_type": "markdown",
   "source": "#### <span style=\"color:orange\">Importing the Dataset</span>",
   "id": "2490459879d05c12"
  },
  {
   "metadata": {},
   "cell_type": "code",
   "outputs": [],
   "execution_count": null,
   "source": "dataset_SVR = pd.read_csv('ENTER\\\\THE\\\\NAME/PAT\\\\OF\\\\YOUR\\\\DATASET\\\\HERE.csv')",
   "id": "6df1ec9284a03df4"
  },
  {
   "metadata": {},
   "cell_type": "code",
   "outputs": [],
   "execution_count": null,
   "source": [
    "input_features_SVR = dataset_SVR.iloc[ : , :-1].values              ## X\n",
    "dv_SVR = dataset_SVR.iloc[ : , -1].values                           ## y (dependent variable)"
   ],
   "id": "f4b7fd2e08f3344a"
  },
  {
   "metadata": {},
   "cell_type": "code",
   "outputs": [],
   "execution_count": null,
   "source": [
    "dv_SVR = dv_SVR.reshape(len(dv_SVR), 1)\n",
    "# // Preprocessing technique to make it into 1 col instead of 1 row, if it was 1 row\n",
    "# // SVR Model wants the dv as 1 row not 1 col, so you only want to convert it, if you want to apply\n",
    "# /  Feature scaling for example or whatever, just convert it back after.\n",
    "# // Note: the SVR model works the same whether you convert it to 1 row or 1 col"
   ],
   "id": "293200a6a9381b00"
  },
  {
   "metadata": {},
   "cell_type": "markdown",
   "source": "#### <span style=\"color:orange\">Splitting the Data</span>",
   "id": "e996d4e48b633d53"
  },
  {
   "metadata": {},
   "cell_type": "code",
   "outputs": [],
   "execution_count": null,
   "source": [
    "from sklearn.model_selection import train_test_split\n",
    "\n",
    "# // X_train, X_test, y_train, y_test, (tuple unpacking)\n",
    "(input_features_train_SVR, input_features_test_SVR,\n",
    " dv_train_SVR, dv_test_SVR) = train_test_split(input_features_SVR, dv_SVR, test_size=0.2, random_state=0)"
   ],
   "id": "55ec1e6b54bdac5"
  },
  {
   "metadata": {},
   "cell_type": "markdown",
   "source": "#### <span style=\"color:orange\">Feature Scaling for SVR</span>",
   "id": "cedf6cd21080130a"
  },
  {
   "metadata": {},
   "cell_type": "code",
   "outputs": [],
   "execution_count": null,
   "source": [
    "from sklearn.preprocessing import StandardScaler\n",
    "\n",
    "## Standardizing the input feature\n",
    "standard_scaler_X = StandardScaler()\n",
    "input_features_train_SVR = standard_scaler_X.fit_transform(input_features_train_SVR)\n",
    "\n",
    "## Standardizing the Dependent Variable\n",
    "standard_scaler_y = StandardScaler()\n",
    "dv_train_SVR = standard_scaler_y.fit_transform(dv_train_SVR)"
   ],
   "id": "4633cecb9272b684"
  },
  {
   "metadata": {},
   "cell_type": "markdown",
   "source": "#### <span style=\"color:orange\">Training the SVR Model on the Training Set</span>",
   "id": "6f6dbe9e603b9cfb"
  },
  {
   "metadata": {},
   "cell_type": "code",
   "outputs": [],
   "execution_count": null,
   "source": [
    "from sklearn.svm import SVR\n",
    "\n",
    "support_vector_regressor = SVR(kernel='rbf')\n",
    "support_vector_regressor.fit(input_features_train_SVR, dv_train_SVR)"
   ],
   "id": "e14ac3321750d3de"
  },
  {
   "metadata": {},
   "cell_type": "markdown",
   "source": "#### <span style=\"color:orange\">Predicting Test Set Results</span>",
   "id": "37dfaaa105fb16f"
  },
  {
   "metadata": {},
   "cell_type": "code",
   "outputs": [],
   "execution_count": null,
   "source": [
    "## y_pred\n",
    "test_set_predicted_dv_SVR = standard_scaler_y.inverse_transform(support_vector_regressor.predict                                           (standard_scaler_X.transform(input_features_test_SVR) ).reshape(-1, 1) )"
   ],
   "id": "b014b5a9c8465da6"
  },
  {
   "metadata": {},
   "cell_type": "code",
   "outputs": [],
   "execution_count": null,
   "source": [
    "np.set_printoptions(precision=2)  # // to make values only two decimal points\n",
    "\n",
    "print(np.concatenate((test_set_predicted_dv_SVR.reshape(len(test_set_predicted_dv_SVR), 1),\n",
    "                    dv_test_SVR.reshape(len(dv_test_SVR), 1) ),\n",
    "                     axis=1) ) # // to show the predicted values and the real values next to them"
   ],
   "id": "62012fdd125650ea"
  },
  {
   "metadata": {},
   "cell_type": "markdown",
   "source": "#### <span style=\"color:orange\">Evaluating the SVR Model Performance</span>",
   "id": "20b9551c1da50e"
  },
  {
   "metadata": {},
   "cell_type": "markdown",
   "source": "##### <span style=\"color:orange\">R-squared</span>",
   "id": "65c075ab50809363"
  },
  {
   "metadata": {},
   "cell_type": "code",
   "outputs": [],
   "execution_count": null,
   "source": [
    "from sklearn.metrics import r2_score\n",
    "\n",
    "print(r2_score(dv_test_SVR, test_set_predicted_dv_SVR) * 100, '%')  # y_test, y_pred"
   ],
   "id": "1573b187596c4494"
  },
  {
   "metadata": {},
   "cell_type": "markdown",
   "source": "___",
   "id": "9b64142d0af376f1"
  },
  {
   "metadata": {},
   "cell_type": "markdown",
   "source": "## <span style=\"color:orange\">Decision Tree</span>",
   "id": "41b11ceaca80a81c"
  },
  {
   "metadata": {},
   "cell_type": "markdown",
   "source": "#### <span style=\"color:orange\">Importing the Libraries</span>",
   "id": "bae090386e372019"
  },
  {
   "metadata": {},
   "cell_type": "code",
   "outputs": [],
   "execution_count": null,
   "source": [
    "import numpy as np\n",
    "import pandas as pd\n",
    "import matplotlib.pyplot as plt"
   ],
   "id": "54067c2b2857ca26"
  },
  {
   "metadata": {},
   "cell_type": "markdown",
   "source": "#### <span style=\"color:orange\">Importing the Dataset</span>",
   "id": "6cf65606e52e3fac"
  },
  {
   "metadata": {},
   "cell_type": "code",
   "outputs": [],
   "execution_count": null,
   "source": "dataset_DT = pd.read_csv('ENTER\\\\THE\\\\NAME/PAT\\\\OF\\\\YOUR\\\\DATASET\\\\HERE.csv')",
   "id": "526b69b9068c58a"
  },
  {
   "metadata": {},
   "cell_type": "code",
   "outputs": [],
   "execution_count": null,
   "source": [
    "input_features_DT = dataset_DT.iloc[ : , :-1].values              ## X\n",
    "dv_DT = dataset_DT.iloc[ : , -1].values                           ## y (dependent variable)"
   ],
   "id": "20735cbc7fd379b2"
  },
  {
   "metadata": {},
   "cell_type": "markdown",
   "source": "#### <span style=\"color:orange\">Splitting the Data</span>",
   "id": "58b751675af42f3d"
  },
  {
   "metadata": {},
   "cell_type": "code",
   "outputs": [],
   "execution_count": null,
   "source": [
    "from sklearn.model_selection import train_test_split\n",
    "\n",
    "# // X_train, X_test, y_train, y_test, (tuple unpacking)\n",
    "(input_features_train_DT, input_features_test_DT,\n",
    " dv_train_DT, dv_test_DT) = train_test_split(input_features_DT, dv_DT, test_size=0.2, random_state=0)"
   ],
   "id": "d7cfd494b25d3518"
  },
  {
   "metadata": {},
   "cell_type": "markdown",
   "source": "#### <span style=\"color:orange\">Training the DT Model on the Training Set</span>",
   "id": "b8ddc3db6275d445"
  },
  {
   "metadata": {},
   "cell_type": "code",
   "outputs": [],
   "execution_count": null,
   "source": [
    "from sklearn.tree import DecisionTreeRegressor\n",
    "\n",
    "## Building the Model\n",
    "decision_tree_regressor = DecisionTreeRegressor(random_state=0)\n",
    "## Training the Model\n",
    "decision_tree_regressor.fit(X=input_features_train_DT, y=dv_train_DT)"
   ],
   "id": "c1e20153fd0129e5"
  },
  {
   "metadata": {},
   "cell_type": "markdown",
   "source": "#### <span style=\"color:orange\">Predicting the Test Set Results</span>",
   "id": "7f8f16a6f078df77"
  },
  {
   "metadata": {},
   "cell_type": "code",
   "outputs": [],
   "execution_count": null,
   "source": [
    "## y_pred\n",
    "test_set_predicted_dv_DT = decision_tree_regressor.predict(input_features_test_DT)"
   ],
   "id": "9fd17d9490e88f14"
  },
  {
   "metadata": {},
   "cell_type": "code",
   "outputs": [],
   "execution_count": null,
   "source": [
    "np.set_printoptions(precision=2)  # // to make values only two decimal points\n",
    "\n",
    "print(np.concatenate((test_set_predicted_dv_DT.reshape(len(test_set_predicted_dv_DT), 1),\n",
    "                    dv_test_DT.reshape(len(dv_test_DT), 1) ),\n",
    "                     axis=1) )"
   ],
   "id": "7ed8146059c1d87e"
  },
  {
   "metadata": {},
   "cell_type": "markdown",
   "source": "#### <span style=\"color:orange\">Evaluating the DT model</span>",
   "id": "800e9299c3629f9c"
  },
  {
   "metadata": {},
   "cell_type": "markdown",
   "source": "##### <span style=\"color:orange\">R-squared</span>",
   "id": "8640a31ee301cd5d"
  },
  {
   "metadata": {},
   "cell_type": "code",
   "outputs": [],
   "execution_count": null,
   "source": [
    "from sklearn.metrics import r2_score\n",
    "\n",
    "print(r2_score(dv_test_DT, test_set_predicted_dv_DT) * 100, '%')  # y_test, y_pred"
   ],
   "id": "3a870efc3bfea9df"
  },
  {
   "metadata": {},
   "cell_type": "markdown",
   "source": "___",
   "id": "556301f2ad70e4f3"
  },
  {
   "metadata": {},
   "cell_type": "markdown",
   "source": "## <span style=\"color:orange\">Random Forest</span>",
   "id": "c99cfc5dbf8f79f2"
  },
  {
   "metadata": {},
   "cell_type": "markdown",
   "source": "#### <span style=\"color:orange\">Importing the Libraries</span>",
   "id": "5055d16ca89ff6ed"
  },
  {
   "metadata": {},
   "cell_type": "code",
   "outputs": [],
   "execution_count": null,
   "source": [
    "import numpy as np\n",
    "import pandas as pd\n",
    "import matplotlib.pyplot as plt"
   ],
   "id": "4aeb5ab6cdfaf250"
  },
  {
   "metadata": {},
   "cell_type": "markdown",
   "source": "#### <span style=\"color:orange\">Importing the Dataset</span>",
   "id": "d2853043ab84cff1"
  },
  {
   "metadata": {},
   "cell_type": "code",
   "outputs": [],
   "execution_count": null,
   "source": "dataset_RF = pd.read_csv('ENTER\\\\THE\\\\NAME/PAT\\\\OF\\\\YOUR\\\\DATASET\\\\HERE.csv')",
   "id": "8e9b11c877529384"
  },
  {
   "metadata": {},
   "cell_type": "code",
   "outputs": [],
   "execution_count": null,
   "source": [
    "input_features_RF = dataset_RF.iloc[ : , :-1].values              ## X\n",
    "dv_RF = dataset_RF.iloc[ : , -1].values                           ## y (dependent variable)"
   ],
   "id": "5607d6dc29cb009b"
  },
  {
   "metadata": {},
   "cell_type": "markdown",
   "source": "#### <span style=\"color:orange\">Splitting the Data</span>",
   "id": "fe9035e9b0a9e94a"
  },
  {
   "metadata": {},
   "cell_type": "code",
   "outputs": [],
   "execution_count": null,
   "source": [
    "from sklearn.model_selection import train_test_split\n",
    "\n",
    "# // X_train, X_test, y_train, y_test, (tuple unpacking)\n",
    "(input_features_train_RF, input_features_test_RF,\n",
    " dv_train_RF, dv_test_RF) = train_test_split(input_features_RF, dv_RF, test_size=0.2, random_state=0)"
   ],
   "id": "189693081c10acd7"
  },
  {
   "metadata": {},
   "cell_type": "markdown",
   "source": "#### <span style=\"color:orange\">Training the RF Model on the Training Set</span>",
   "id": "30e758e05bd05206"
  },
  {
   "metadata": {},
   "cell_type": "code",
   "outputs": [],
   "execution_count": null,
   "source": [
    "from sklearn.ensemble import RandomForestRegressor\n",
    "\n",
    "## Building the Model\n",
    "random_forest_regressor = RandomForestRegressor(n_estimators=10, random_state=0) # // no. of DT\n",
    "## Training the Model\n",
    "random_forest_regressor.fit(X=input_features_train_RF, y=dv_train_RF)"
   ],
   "id": "fb0116069a74130e"
  },
  {
   "metadata": {},
   "cell_type": "markdown",
   "source": "#### <span style=\"color:orange\">Predicting the Test Set Results</span>",
   "id": "cf8c054f4ce52c8a"
  },
  {
   "metadata": {},
   "cell_type": "code",
   "outputs": [],
   "execution_count": null,
   "source": [
    "## y_pred\n",
    "test_set_predicted_dv_RF = random_forest_regressor.predict(input_features_test_RF)"
   ],
   "id": "d5064d6e44b95306"
  },
  {
   "metadata": {},
   "cell_type": "code",
   "outputs": [],
   "execution_count": null,
   "source": [
    "np.set_printoptions(precision=2)  # // to make values only two decimal points\n",
    "\n",
    "print(np.concatenate((test_set_predicted_dv_RF.reshape(len(test_set_predicted_dv_RF), 1),\n",
    "                    dv_test_RF.reshape(len(dv_test_RF), 1) ),\n",
    "                     axis=1) )"
   ],
   "id": "eef76433649374ad"
  },
  {
   "metadata": {},
   "cell_type": "markdown",
   "source": "#### <span style=\"color:orange\">Evaluating RF Model</span>",
   "id": "bf38012f02897dee"
  },
  {
   "metadata": {},
   "cell_type": "markdown",
   "source": "##### <span style=\"color:orange\">R-squared</span>",
   "id": "2089f5a5b39a995e"
  },
  {
   "metadata": {},
   "cell_type": "code",
   "outputs": [],
   "execution_count": null,
   "source": [
    "from sklearn.metrics import r2_score\n",
    "\n",
    "print(r2_score(dv_test_RF, test_set_predicted_dv_RF) * 100, '%')  # y_test, y_pred"
   ],
   "id": "af2a993557e32dec"
  },
  {
   "metadata": {},
   "cell_type": "markdown",
   "source": "___",
   "id": "a0251870228630db"
  },
  {
   "metadata": {},
   "cell_type": "code",
   "outputs": [],
   "execution_count": null,
   "source": "",
   "id": "19ce02785eb93f56"
  }
 ],
 "metadata": {
  "kernelspec": {
   "display_name": "Python 3",
   "language": "python",
   "name": "python3"
  },
  "language_info": {
   "codemirror_mode": {
    "name": "ipython",
    "version": 2
   },
   "file_extension": ".py",
   "mimetype": "text/x-python",
   "name": "python",
   "nbconvert_exporter": "python",
   "pygments_lexer": "ipython2",
   "version": "2.7.6"
  }
 },
 "nbformat": 4,
 "nbformat_minor": 5
}
