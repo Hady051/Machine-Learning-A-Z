{
 "cells": [
  {
   "metadata": {},
   "cell_type": "markdown",
   "source": "# <span style=\"color:orange\">Thompson Sampling</span>",
   "id": "4b8e3a068b6de8e7"
  },
  {
   "metadata": {},
   "cell_type": "markdown",
   "source": "### <span style=\"color:orange\">Importing the Libraries</span>",
   "id": "a5d06bb82e29261b"
  },
  {
   "cell_type": "code",
   "id": "initial_id",
   "metadata": {
    "collapsed": true,
    "ExecuteTime": {
     "end_time": "2025-06-03T17:59:25.852367Z",
     "start_time": "2025-06-03T17:59:24.968981Z"
    }
   },
   "source": [
    "import numpy as np\n",
    "import pandas as pd\n",
    "import matplotlib.pyplot as plt"
   ],
   "outputs": [],
   "execution_count": 1
  },
  {
   "metadata": {},
   "cell_type": "markdown",
   "source": "### <span style=\"color:orange\">Importing the Dataset</span>",
   "id": "a77b6d45575c30e2"
  },
  {
   "metadata": {
    "ExecuteTime": {
     "end_time": "2025-06-03T17:59:25.870733Z",
     "start_time": "2025-06-03T17:59:25.856380Z"
    }
   },
   "cell_type": "code",
   "source": "dataset = pd.read_csv('Datasets\\\\Ads_CTR_Optimisation.csv')",
   "id": "21760af211310a22",
   "outputs": [],
   "execution_count": 2
  },
  {
   "metadata": {
    "ExecuteTime": {
     "end_time": "2025-06-03T17:59:26.089043Z",
     "start_time": "2025-06-03T17:59:26.072026Z"
    }
   },
   "cell_type": "code",
   "source": "dataset.head()",
   "id": "a13e08710aaba836",
   "outputs": [
    {
     "data": {
      "text/plain": [
       "   Ad 1  Ad 2  Ad 3  Ad 4  Ad 5  Ad 6  Ad 7  Ad 8  Ad 9  Ad 10\n",
       "0     1     0     0     0     1     0     0     0     1      0\n",
       "1     0     0     0     0     0     0     0     0     1      0\n",
       "2     0     0     0     0     0     0     0     0     0      0\n",
       "3     0     1     0     0     0     0     0     1     0      0\n",
       "4     0     0     0     0     0     0     0     0     0      0"
      ],
      "text/html": [
       "<div>\n",
       "<style scoped>\n",
       "    .dataframe tbody tr th:only-of-type {\n",
       "        vertical-align: middle;\n",
       "    }\n",
       "\n",
       "    .dataframe tbody tr th {\n",
       "        vertical-align: top;\n",
       "    }\n",
       "\n",
       "    .dataframe thead th {\n",
       "        text-align: right;\n",
       "    }\n",
       "</style>\n",
       "<table border=\"1\" class=\"dataframe\">\n",
       "  <thead>\n",
       "    <tr style=\"text-align: right;\">\n",
       "      <th></th>\n",
       "      <th>Ad 1</th>\n",
       "      <th>Ad 2</th>\n",
       "      <th>Ad 3</th>\n",
       "      <th>Ad 4</th>\n",
       "      <th>Ad 5</th>\n",
       "      <th>Ad 6</th>\n",
       "      <th>Ad 7</th>\n",
       "      <th>Ad 8</th>\n",
       "      <th>Ad 9</th>\n",
       "      <th>Ad 10</th>\n",
       "    </tr>\n",
       "  </thead>\n",
       "  <tbody>\n",
       "    <tr>\n",
       "      <th>0</th>\n",
       "      <td>1</td>\n",
       "      <td>0</td>\n",
       "      <td>0</td>\n",
       "      <td>0</td>\n",
       "      <td>1</td>\n",
       "      <td>0</td>\n",
       "      <td>0</td>\n",
       "      <td>0</td>\n",
       "      <td>1</td>\n",
       "      <td>0</td>\n",
       "    </tr>\n",
       "    <tr>\n",
       "      <th>1</th>\n",
       "      <td>0</td>\n",
       "      <td>0</td>\n",
       "      <td>0</td>\n",
       "      <td>0</td>\n",
       "      <td>0</td>\n",
       "      <td>0</td>\n",
       "      <td>0</td>\n",
       "      <td>0</td>\n",
       "      <td>1</td>\n",
       "      <td>0</td>\n",
       "    </tr>\n",
       "    <tr>\n",
       "      <th>2</th>\n",
       "      <td>0</td>\n",
       "      <td>0</td>\n",
       "      <td>0</td>\n",
       "      <td>0</td>\n",
       "      <td>0</td>\n",
       "      <td>0</td>\n",
       "      <td>0</td>\n",
       "      <td>0</td>\n",
       "      <td>0</td>\n",
       "      <td>0</td>\n",
       "    </tr>\n",
       "    <tr>\n",
       "      <th>3</th>\n",
       "      <td>0</td>\n",
       "      <td>1</td>\n",
       "      <td>0</td>\n",
       "      <td>0</td>\n",
       "      <td>0</td>\n",
       "      <td>0</td>\n",
       "      <td>0</td>\n",
       "      <td>1</td>\n",
       "      <td>0</td>\n",
       "      <td>0</td>\n",
       "    </tr>\n",
       "    <tr>\n",
       "      <th>4</th>\n",
       "      <td>0</td>\n",
       "      <td>0</td>\n",
       "      <td>0</td>\n",
       "      <td>0</td>\n",
       "      <td>0</td>\n",
       "      <td>0</td>\n",
       "      <td>0</td>\n",
       "      <td>0</td>\n",
       "      <td>0</td>\n",
       "      <td>0</td>\n",
       "    </tr>\n",
       "  </tbody>\n",
       "</table>\n",
       "</div>"
      ]
     },
     "execution_count": 3,
     "metadata": {},
     "output_type": "execute_result"
    }
   ],
   "execution_count": 3
  },
  {
   "metadata": {},
   "cell_type": "markdown",
   "source": "### <span style=\"color:orange\">Implementing Thompson Sampling</span>",
   "id": "7a68c7fe5af6b064"
  },
  {
   "metadata": {
    "ExecuteTime": {
     "end_time": "2025-06-03T17:59:26.174018Z",
     "start_time": "2025-06-03T17:59:26.170214Z"
    }
   },
   "cell_type": "code",
   "source": [
    "import random\n",
    "# // no. of users (the number of times we run the algorithm)\n",
    "N = 500\n",
    "# // no. of ads\n",
    "d = 10\n",
    "ads_selected = []\n",
    "# // Ni1\n",
    "number_of_rewards_1 = [0] * d\n",
    "# // Ni0\n",
    "number_of_rewards_0 = [0] * d\n",
    "total_reward = 0"
   ],
   "id": "e0283542beb3f4ba",
   "outputs": [],
   "execution_count": 4
  },
  {
   "metadata": {},
   "cell_type": "raw",
   "source": [
    "### Des:\n",
    "# // we initialized Ni1 by zeros because we still didn't run the algorithm (get any reward), same for Ni0 and total_reward."
   ],
   "id": "cab0909a48c6dec"
  },
  {
   "metadata": {
    "ExecuteTime": {
     "end_time": "2025-06-03T17:59:26.297995Z",
     "start_time": "2025-06-03T17:59:26.281303Z"
    }
   },
   "cell_type": "code",
   "source": [
    "for n in range(0, N):\n",
    "    ad = 0\n",
    "    max_of_random_draws = 0\n",
    "    # // step 2\n",
    "    for ad_index in range(0, d):\n",
    "        random_beta_draw = random.betavariate(alpha=number_of_rewards_1[ad_index] + 1,\n",
    "                                              beta=number_of_rewards_0[ad_index] + 1)\n",
    "        # // step 3\n",
    "        if random_beta_draw > max_of_random_draws:\n",
    "            max_of_random_draws = random_beta_draw\n",
    "            ad = ad_index\n",
    "\n",
    "    ads_selected.append(ad)\n",
    "    reward = dataset.values[n, ad]\n",
    "    if reward == 1:\n",
    "        number_of_rewards_1[ad] = number_of_rewards_1[ad] + 1\n",
    "    else:\n",
    "        number_of_rewards_0[ad] = number_of_rewards_0[ad] + 1\n",
    "\n",
    "    total_reward = total_reward + reward"
   ],
   "id": "49b63458e9a89c45",
   "outputs": [],
   "execution_count": 5
  },
  {
   "metadata": {},
   "cell_type": "raw",
   "source": [
    "### Des:\n",
    "# // n: number of rounds\n",
    "# // ad: is the ad we select at each round.\n",
    "# // max_of_random_draws: is the variable from step 3 in the pic. the ad with the highest theta(i).\n",
    "# // random.betavariate() -> Beta distribution.\n",
    "     Conditions on the parameters are alpha > 0 and beta > 0. Returned values range between 0 and 1.\n",
    "# // Python’s random.betavariate(alpha, beta) function returns a random floating-point number drawn from a\n",
    "     Beta distribution with the specified parameters.\n",
    "  alpha and beta must both be > 0\n",
    "\n",
    "Return value: A random float in the interval [0.0,1.0]\n"
   ],
   "id": "4931d8759aa80503"
  },
  {
   "metadata": {},
   "cell_type": "raw",
   "source": [
    "## 📊 Use Cases of the Beta Distribution:\n",
    "* Bayesian Inference: When modeling beliefs about probabilities (e.g., the probability of success in a Bernoulli trial).\n",
    "\n",
    "* A/B Testing: Used to model the posterior probability of conversion rates.\n",
    "\n",
    "* Random Sampling: When you want values constrained between 0 and 1, but not uniformly.\n",
    "\n",
    "* Simulations: For modeling uncertain probabilities or proportions.\n",
    "\n",
    "## 🧪 Intuition:\n",
    "Imagine flipping a coin. You don’t know if it’s fair. You start with a prior belief about the fairness — maybe you assume α=β=1 (uniform). As you observe heads and tails, you update your belief:\n",
    "α=heads+1, 𝛽=tails+1. This updated belief is represented by a Beta distribution."
   ],
   "id": "d50a6773b075fd44"
  },
  {
   "metadata": {},
   "cell_type": "markdown",
   "source": [
    "📈 Beta Distribution Shapes\n",
    "Depending on the values of α and β, the Beta distribution can take on various shapes:\n",
    "Uniform (flat):\n",
    "α=β=1\n",
    "\n",
    "Skewed right:\n",
    "α<β\n",
    "\n",
    "Skewed left:\n",
    "α>β\n",
    "\n",
    "Peaked (bell-shaped):\n",
    "α=β>1\n",
    "\n",
    "U-shaped:\n",
    "α,β<1"
   ],
   "id": "7f9e97cb1a00e4cb"
  },
  {
   "metadata": {
    "ExecuteTime": {
     "end_time": "2025-06-03T17:59:26.357268Z",
     "start_time": "2025-06-03T17:59:26.353450Z"
    }
   },
   "cell_type": "code",
   "source": "print(ads_selected)",
   "id": "6214801605f3a32",
   "outputs": [
    {
     "name": "stdout",
     "output_type": "stream",
     "text": [
      "[8, 6, 7, 4, 9, 7, 3, 8, 0, 2, 3, 0, 2, 5, 2, 1, 2, 0, 4, 8, 8, 3, 8, 2, 9, 3, 3, 6, 1, 4, 2, 4, 4, 7, 7, 8, 5, 6, 7, 9, 8, 3, 4, 8, 4, 6, 5, 1, 7, 2, 0, 7, 6, 8, 9, 6, 3, 7, 7, 4, 8, 4, 1, 5, 7, 2, 7, 2, 7, 3, 9, 5, 3, 9, 7, 2, 8, 4, 3, 8, 2, 8, 7, 7, 9, 6, 2, 7, 4, 4, 2, 2, 2, 7, 6, 0, 7, 0, 7, 9, 3, 7, 0, 8, 3, 2, 0, 8, 6, 3, 4, 8, 7, 8, 9, 0, 1, 7, 7, 0, 4, 7, 7, 5, 5, 6, 6, 4, 2, 4, 8, 8, 2, 0, 0, 2, 8, 7, 4, 1, 0, 0, 9, 2, 4, 7, 4, 4, 4, 5, 2, 6, 4, 4, 2, 4, 4, 6, 1, 6, 8, 6, 1, 8, 4, 7, 2, 7, 3, 8, 6, 9, 4, 4, 7, 6, 3, 6, 7, 8, 8, 8, 7, 7, 7, 9, 4, 1, 3, 4, 6, 7, 5, 2, 8, 3, 1, 8, 4, 4, 4, 8, 9, 9, 4, 4, 4, 5, 7, 8, 4, 3, 7, 4, 7, 4, 3, 4, 7, 5, 4, 4, 9, 6, 8, 1, 8, 8, 0, 2, 8, 7, 2, 4, 8, 4, 3, 7, 6, 6, 8, 8, 8, 3, 6, 5, 0, 7, 4, 3, 4, 0, 8, 6, 3, 7, 8, 4, 3, 6, 3, 3, 2, 4, 3, 4, 1, 4, 4, 4, 4, 4, 6, 3, 4, 4, 8, 9, 3, 4, 1, 3, 5, 4, 4, 8, 0, 4, 7, 9, 6, 7, 2, 0, 4, 6, 1, 4, 6, 7, 4, 4, 7, 6, 4, 4, 8, 4, 4, 4, 4, 4, 6, 4, 4, 6, 5, 4, 4, 6, 4, 4, 4, 4, 3, 7, 4, 4, 4, 4, 6, 4, 4, 7, 4, 6, 4, 4, 4, 4, 7, 0, 4, 0, 6, 4, 7, 4, 3, 4, 4, 4, 7, 4, 4, 4, 4, 4, 0, 4, 4, 4, 4, 7, 4, 4, 4, 4, 4, 3, 4, 2, 3, 4, 4, 4, 4, 4, 4, 4, 4, 4, 4, 4, 7, 7, 4, 4, 7, 3, 7, 4, 4, 6, 4, 4, 7, 4, 4, 3, 4, 7, 4, 4, 4, 4, 4, 4, 7, 4, 4, 3, 6, 0, 0, 4, 4, 4, 6, 4, 4, 4, 4, 4, 4, 4, 4, 4, 7, 4, 7, 4, 4, 4, 4, 4, 4, 4, 4, 4, 4, 4, 0, 4, 4, 4, 7, 4, 4, 4, 4, 4, 1, 7, 2, 5, 4, 7, 4, 4, 0, 4, 4, 4, 4, 3, 4, 6, 8, 7, 3, 4, 4, 4, 4, 4, 4, 7, 4, 4, 4, 4, 5, 6, 0, 4, 5, 4, 4, 7, 4, 4, 4, 4, 4, 4, 4, 4, 4, 6]\n"
     ]
    }
   ],
   "execution_count": 6
  },
  {
   "metadata": {},
   "cell_type": "markdown",
   "source": "### <span style=\"color:orange\">Visualizing the Results</span>",
   "id": "ae20b2a5aa1f6bcf"
  },
  {
   "metadata": {
    "ExecuteTime": {
     "end_time": "2025-06-03T17:59:26.544927Z",
     "start_time": "2025-06-03T17:59:26.394953Z"
    }
   },
   "cell_type": "code",
   "source": [
    "plt.hist(ads_selected, edgecolor='black', width=0.8)\n",
    "plt.title('Histogram of ads selections')\n",
    "plt.xlabel('Ads')\n",
    "plt.ylabel('Number of times each ad was selected')\n",
    "plt.show()"
   ],
   "id": "ffebf27ea151212b",
   "outputs": [
    {
     "data": {
      "text/plain": [
       "<Figure size 640x480 with 1 Axes>"
      ],
      "image/png": "[encoded data removed]"
     },
     "metadata": {},
     "output_type": "display_data"
    }
   ],
   "execution_count": 7
  },
  {
   "metadata": {
    "ExecuteTime": {
     "end_time": "2025-06-03T17:59:26.730422Z",
     "start_time": "2025-06-03T17:59:26.557120Z"
    }
   },
   "cell_type": "code",
   "source": [
    "bins = np.arange(0, 11)\n",
    "n, bins, patches = plt.hist(ads_selected, bins=bins, edgecolor='black', width=0.8)\n",
    "\n",
    "# Set x-ticks at the center of each bar\n",
    "bin_centers = 0.5 * (bins[:-1] + bins[1:])\n",
    "plt.xticks(bin_centers, [str(int(x)) for x in bin_centers])\n",
    "\n",
    "plt.title('Histogram of ads selections')\n",
    "plt.xlabel('Ads')\n",
    "plt.ylabel('Number of times each ad was selected')\n",
    "plt.show()"
   ],
   "id": "20deb094964a3ec0",
   "outputs": [
    {
     "data": {
      "text/plain": [
       "<Figure size 640x480 with 1 Axes>"
      ],
      "image/png": "[encoded data removed]"
     },
     "metadata": {},
     "output_type": "display_data"
    }
   ],
   "execution_count": 8
  },
  {
   "metadata": {},
   "cell_type": "raw",
   "source": [
    "## 🔍 Explanation:\n",
    "bins[:-1] and bins[1:] get the left and right edges of each bin.\n",
    "bin_centers calculates the center of each bar.\n",
    "plt.xticks() manually sets the positions and labels."
   ],
   "id": "2cbc8f4c651081d0"
  },
  {
   "metadata": {},
   "cell_type": "markdown",
   "source": "___",
   "id": "5fbafa89cfec82d1"
  },
  {
   "metadata": {},
   "cell_type": "raw",
   "source": [
    "### Des:\n",
    "# // It predicted ad 4 was the most effective. which is right after 10,000 rounds (N=10,000).\n",
    "# // It predicted ad 4 was the most effective. which is right after 1,000 rounds (N=1,000).\n",
    "# // It predicted ad 4 was the most effective. which is right after 500 rounds (N=500).\n",
    "# // ** this means Thompson Sampling is a very fast and powerful algorithm than UCB."
   ],
   "id": "1a7cb9ae577a9e",
   "outputs": null,
   "execution_count": null
  }
 ],
 "metadata": {
  "kernelspec": {
   "display_name": "Python 3",
   "language": "python",
   "name": "python3"
  },
  "language_info": {
   "codemirror_mode": {
    "name": "ipython",
    "version": 2
   },
   "file_extension": ".py",
   "mimetype": "text/x-python",
   "name": "python",
   "nbconvert_exporter": "python",
   "pygments_lexer": "ipython2",
   "version": "2.7.6"
  }
 },
 "nbformat": 4,
 "nbformat_minor": 5
}
